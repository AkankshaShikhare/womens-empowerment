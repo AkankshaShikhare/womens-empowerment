{
 "cells": [
  {
   "cell_type": "code",
   "execution_count": 1,
   "metadata": {
    "_cell_guid": "b1076dfc-b9ad-4769-8c92-a6c4dae69d19",
    "_uuid": "8f2839f25d086af736a60e9eeb907d3b93b6e0e5",
    "execution": {
     "iopub.execute_input": "2020-12-12T08:29:53.298818Z",
     "iopub.status.busy": "2020-12-12T08:29:53.298093Z",
     "iopub.status.idle": "2020-12-12T08:29:54.357413Z",
     "shell.execute_reply": "2020-12-12T08:29:54.358519Z"
    },
    "papermill": {
     "duration": 1.086318,
     "end_time": "2020-12-12T08:29:54.358729",
     "exception": false,
     "start_time": "2020-12-12T08:29:53.272411",
     "status": "completed"
    },
    "tags": []
   },
   "outputs": [
    {
     "name": "stdout",
     "output_type": "stream",
     "text": [
      "/kaggle/input/women-entrepreneurship-and-labor-force/Dataset3.csv\n"
     ]
    }
   ],
   "source": [
    "# This Python 3 environment comes with many helpful analytics libraries installed\n",
    "# It is defined by the kaggle/python Docker image: https://github.com/kaggle/docker-python\n",
    "# For example, here's several helpful packages to load\n",
    "\n",
    "import numpy as np # linear algebra\n",
    "import pandas as pd # data processing, CSV file I/O (e.g. pd.read_csv)\n",
    "import matplotlib.pyplot as plt\n",
    "import seaborn as sns\n",
    "\n",
    "# Input data files are available in the read-only \"../input/\" directory\n",
    "# For example, running this (by clicking run or pressing Shift+Enter) will list all files under the input directory\n",
    "\n",
    "import os\n",
    "for dirname, _, filenames in os.walk('/kaggle/input'):\n",
    "    for filename in filenames:\n",
    "        print(os.path.join(dirname, filename))\n",
    "\n",
    "# You can write up to 20GB to the current directory (/kaggle/working/) that gets preserved as output when you create a version using \"Save & Run All\" \n",
    "# You can also write temporary files to /kaggle/temp/, but they won't be saved outside of the current session"
   ]
  },
  {
   "cell_type": "markdown",
   "metadata": {
    "papermill": {
     "duration": 0.018191,
     "end_time": "2020-12-12T08:29:54.396042",
     "exception": false,
     "start_time": "2020-12-12T08:29:54.377851",
     "status": "completed"
    },
    "tags": []
   },
   "source": [
    "# Importing the dataset"
   ]
  },
  {
   "cell_type": "code",
   "execution_count": 2,
   "metadata": {
    "_cell_guid": "79c7e3d0-c299-4dcb-8224-4455121ee9b0",
    "_uuid": "d629ff2d2480ee46fbb7e2d37f6b5fab8052498a",
    "execution": {
     "iopub.execute_input": "2020-12-12T08:29:54.439945Z",
     "iopub.status.busy": "2020-12-12T08:29:54.439242Z",
     "iopub.status.idle": "2020-12-12T08:29:54.478236Z",
     "shell.execute_reply": "2020-12-12T08:29:54.478757Z"
    },
    "papermill": {
     "duration": 0.064674,
     "end_time": "2020-12-12T08:29:54.478913",
     "exception": false,
     "start_time": "2020-12-12T08:29:54.414239",
     "status": "completed"
    },
    "tags": []
   },
   "outputs": [
    {
     "data": {
      "text/html": [
       "<div>\n",
       "<style scoped>\n",
       "    .dataframe tbody tr th:only-of-type {\n",
       "        vertical-align: middle;\n",
       "    }\n",
       "\n",
       "    .dataframe tbody tr th {\n",
       "        vertical-align: top;\n",
       "    }\n",
       "\n",
       "    .dataframe thead th {\n",
       "        text-align: right;\n",
       "    }\n",
       "</style>\n",
       "<table border=\"1\" class=\"dataframe\">\n",
       "  <thead>\n",
       "    <tr style=\"text-align: right;\">\n",
       "      <th></th>\n",
       "      <th>No</th>\n",
       "      <th>Country</th>\n",
       "      <th>Level of development</th>\n",
       "      <th>European Union Membership</th>\n",
       "      <th>Currency</th>\n",
       "      <th>Women Entrepreneurship Index</th>\n",
       "      <th>Entrepreneurship Index</th>\n",
       "      <th>Inflation rate</th>\n",
       "      <th>Female Labor Force Participation Rate</th>\n",
       "    </tr>\n",
       "  </thead>\n",
       "  <tbody>\n",
       "    <tr>\n",
       "      <th>0</th>\n",
       "      <td>4</td>\n",
       "      <td>Austria</td>\n",
       "      <td>Developed</td>\n",
       "      <td>Member</td>\n",
       "      <td>Euro</td>\n",
       "      <td>54.9</td>\n",
       "      <td>64.9</td>\n",
       "      <td>0.90</td>\n",
       "      <td>67.1</td>\n",
       "    </tr>\n",
       "    <tr>\n",
       "      <th>1</th>\n",
       "      <td>6</td>\n",
       "      <td>Belgium</td>\n",
       "      <td>Developed</td>\n",
       "      <td>Member</td>\n",
       "      <td>Euro</td>\n",
       "      <td>63.6</td>\n",
       "      <td>65.5</td>\n",
       "      <td>0.60</td>\n",
       "      <td>58.0</td>\n",
       "    </tr>\n",
       "    <tr>\n",
       "      <th>2</th>\n",
       "      <td>17</td>\n",
       "      <td>Estonia</td>\n",
       "      <td>Developed</td>\n",
       "      <td>Member</td>\n",
       "      <td>Euro</td>\n",
       "      <td>55.4</td>\n",
       "      <td>60.2</td>\n",
       "      <td>-0.88</td>\n",
       "      <td>68.5</td>\n",
       "    </tr>\n",
       "    <tr>\n",
       "      <th>3</th>\n",
       "      <td>18</td>\n",
       "      <td>Finland</td>\n",
       "      <td>Developed</td>\n",
       "      <td>Member</td>\n",
       "      <td>Euro</td>\n",
       "      <td>66.4</td>\n",
       "      <td>65.7</td>\n",
       "      <td>-0.20</td>\n",
       "      <td>67.7</td>\n",
       "    </tr>\n",
       "    <tr>\n",
       "      <th>4</th>\n",
       "      <td>19</td>\n",
       "      <td>France</td>\n",
       "      <td>Developed</td>\n",
       "      <td>Member</td>\n",
       "      <td>Euro</td>\n",
       "      <td>68.8</td>\n",
       "      <td>67.3</td>\n",
       "      <td>0.00</td>\n",
       "      <td>60.6</td>\n",
       "    </tr>\n",
       "  </tbody>\n",
       "</table>\n",
       "</div>"
      ],
      "text/plain": [
       "   No  Country Level of development European Union Membership Currency  \\\n",
       "0   4  Austria            Developed                    Member     Euro   \n",
       "1   6  Belgium            Developed                    Member     Euro   \n",
       "2  17  Estonia            Developed                    Member     Euro   \n",
       "3  18  Finland            Developed                    Member     Euro   \n",
       "4  19   France            Developed                    Member     Euro   \n",
       "\n",
       "   Women Entrepreneurship Index  Entrepreneurship Index  Inflation rate  \\\n",
       "0                          54.9                    64.9            0.90   \n",
       "1                          63.6                    65.5            0.60   \n",
       "2                          55.4                    60.2           -0.88   \n",
       "3                          66.4                    65.7           -0.20   \n",
       "4                          68.8                    67.3            0.00   \n",
       "\n",
       "   Female Labor Force Participation Rate  \n",
       "0                                   67.1  \n",
       "1                                   58.0  \n",
       "2                                   68.5  \n",
       "3                                   67.7  \n",
       "4                                   60.6  "
      ]
     },
     "execution_count": 2,
     "metadata": {},
     "output_type": "execute_result"
    }
   ],
   "source": [
    "df = pd.read_csv(\"../input/women-entrepreneurship-and-labor-force/Dataset3.csv\",header = 0,sep = \";\", names=[\"No\",\"Country\",\"Level of development\",\"European Union Membership\",\"Currency\",\n",
    "                                       \"Women Entrepreneurship Index\",\"Entrepreneurship Index\",\"Inflation rate\",\"Female Labor Force Participation Rate\"])\n",
    "df.head()"
   ]
  },
  {
   "cell_type": "code",
   "execution_count": 3,
   "metadata": {
    "execution": {
     "iopub.execute_input": "2020-12-12T08:29:54.531296Z",
     "iopub.status.busy": "2020-12-12T08:29:54.530615Z",
     "iopub.status.idle": "2020-12-12T08:29:54.534696Z",
     "shell.execute_reply": "2020-12-12T08:29:54.534156Z"
    },
    "papermill": {
     "duration": 0.03692,
     "end_time": "2020-12-12T08:29:54.534813",
     "exception": false,
     "start_time": "2020-12-12T08:29:54.497893",
     "status": "completed"
    },
    "tags": []
   },
   "outputs": [
    {
     "name": "stdout",
     "output_type": "stream",
     "text": [
      "<class 'pandas.core.frame.DataFrame'>\n",
      "RangeIndex: 51 entries, 0 to 50\n",
      "Data columns (total 9 columns):\n",
      " #   Column                                 Non-Null Count  Dtype  \n",
      "---  ------                                 --------------  -----  \n",
      " 0   No                                     51 non-null     int64  \n",
      " 1   Country                                51 non-null     object \n",
      " 2   Level of development                   51 non-null     object \n",
      " 3   European Union Membership              51 non-null     object \n",
      " 4   Currency                               51 non-null     object \n",
      " 5   Women Entrepreneurship Index           51 non-null     float64\n",
      " 6   Entrepreneurship Index                 51 non-null     float64\n",
      " 7   Inflation rate                         51 non-null     float64\n",
      " 8   Female Labor Force Participation Rate  51 non-null     float64\n",
      "dtypes: float64(4), int64(1), object(4)\n",
      "memory usage: 3.7+ KB\n"
     ]
    }
   ],
   "source": [
    "df.info()"
   ]
  },
  {
   "cell_type": "markdown",
   "metadata": {
    "papermill": {
     "duration": 0.01899,
     "end_time": "2020-12-12T08:29:54.573300",
     "exception": false,
     "start_time": "2020-12-12T08:29:54.554310",
     "status": "completed"
    },
    "tags": []
   },
   "source": [
    "# One hot Encoding"
   ]
  },
  {
   "cell_type": "code",
   "execution_count": 4,
   "metadata": {
    "execution": {
     "iopub.execute_input": "2020-12-12T08:29:54.619004Z",
     "iopub.status.busy": "2020-12-12T08:29:54.618313Z",
     "iopub.status.idle": "2020-12-12T08:29:54.637076Z",
     "shell.execute_reply": "2020-12-12T08:29:54.636403Z"
    },
    "papermill": {
     "duration": 0.044683,
     "end_time": "2020-12-12T08:29:54.637193",
     "exception": false,
     "start_time": "2020-12-12T08:29:54.592510",
     "status": "completed"
    },
    "tags": []
   },
   "outputs": [
    {
     "data": {
      "text/html": [
       "<div>\n",
       "<style scoped>\n",
       "    .dataframe tbody tr th:only-of-type {\n",
       "        vertical-align: middle;\n",
       "    }\n",
       "\n",
       "    .dataframe tbody tr th {\n",
       "        vertical-align: top;\n",
       "    }\n",
       "\n",
       "    .dataframe thead th {\n",
       "        text-align: right;\n",
       "    }\n",
       "</style>\n",
       "<table border=\"1\" class=\"dataframe\">\n",
       "  <thead>\n",
       "    <tr style=\"text-align: right;\">\n",
       "      <th></th>\n",
       "      <th>No</th>\n",
       "      <th>Country</th>\n",
       "      <th>Level of development</th>\n",
       "      <th>European Union Membership</th>\n",
       "      <th>Currency</th>\n",
       "      <th>Women Entrepreneurship Index</th>\n",
       "      <th>Entrepreneurship Index</th>\n",
       "      <th>Inflation rate</th>\n",
       "      <th>Female Labor Force Participation Rate</th>\n",
       "    </tr>\n",
       "  </thead>\n",
       "  <tbody>\n",
       "    <tr>\n",
       "      <th>0</th>\n",
       "      <td>4</td>\n",
       "      <td>Austria</td>\n",
       "      <td>0</td>\n",
       "      <td>0</td>\n",
       "      <td>0</td>\n",
       "      <td>54.9</td>\n",
       "      <td>64.9</td>\n",
       "      <td>0.90</td>\n",
       "      <td>67.1</td>\n",
       "    </tr>\n",
       "    <tr>\n",
       "      <th>1</th>\n",
       "      <td>6</td>\n",
       "      <td>Belgium</td>\n",
       "      <td>0</td>\n",
       "      <td>0</td>\n",
       "      <td>0</td>\n",
       "      <td>63.6</td>\n",
       "      <td>65.5</td>\n",
       "      <td>0.60</td>\n",
       "      <td>58.0</td>\n",
       "    </tr>\n",
       "    <tr>\n",
       "      <th>2</th>\n",
       "      <td>17</td>\n",
       "      <td>Estonia</td>\n",
       "      <td>0</td>\n",
       "      <td>0</td>\n",
       "      <td>0</td>\n",
       "      <td>55.4</td>\n",
       "      <td>60.2</td>\n",
       "      <td>-0.88</td>\n",
       "      <td>68.5</td>\n",
       "    </tr>\n",
       "    <tr>\n",
       "      <th>3</th>\n",
       "      <td>18</td>\n",
       "      <td>Finland</td>\n",
       "      <td>0</td>\n",
       "      <td>0</td>\n",
       "      <td>0</td>\n",
       "      <td>66.4</td>\n",
       "      <td>65.7</td>\n",
       "      <td>-0.20</td>\n",
       "      <td>67.7</td>\n",
       "    </tr>\n",
       "    <tr>\n",
       "      <th>4</th>\n",
       "      <td>19</td>\n",
       "      <td>France</td>\n",
       "      <td>0</td>\n",
       "      <td>0</td>\n",
       "      <td>0</td>\n",
       "      <td>68.8</td>\n",
       "      <td>67.3</td>\n",
       "      <td>0.00</td>\n",
       "      <td>60.6</td>\n",
       "    </tr>\n",
       "  </tbody>\n",
       "</table>\n",
       "</div>"
      ],
      "text/plain": [
       "   No  Country  Level of development  European Union Membership  Currency  \\\n",
       "0   4  Austria                     0                          0         0   \n",
       "1   6  Belgium                     0                          0         0   \n",
       "2  17  Estonia                     0                          0         0   \n",
       "3  18  Finland                     0                          0         0   \n",
       "4  19   France                     0                          0         0   \n",
       "\n",
       "   Women Entrepreneurship Index  Entrepreneurship Index  Inflation rate  \\\n",
       "0                          54.9                    64.9            0.90   \n",
       "1                          63.6                    65.5            0.60   \n",
       "2                          55.4                    60.2           -0.88   \n",
       "3                          66.4                    65.7           -0.20   \n",
       "4                          68.8                    67.3            0.00   \n",
       "\n",
       "   Female Labor Force Participation Rate  \n",
       "0                                   67.1  \n",
       "1                                   58.0  \n",
       "2                                   68.5  \n",
       "3                                   67.7  \n",
       "4                                   60.6  "
      ]
     },
     "execution_count": 4,
     "metadata": {},
     "output_type": "execute_result"
    }
   ],
   "source": [
    "df[\"Level of development\"]=pd.get_dummies(df[\"Level of development\"], drop_first=True)\n",
    "df[\"European Union Membership\"]=pd.get_dummies(df[\"European Union Membership\"], drop_first=True)\n",
    "df[\"Currency\"]=pd.get_dummies(df[\"Currency\"], drop_first=True)\n",
    "df.head()"
   ]
  },
  {
   "cell_type": "markdown",
   "metadata": {
    "papermill": {
     "duration": 0.019475,
     "end_time": "2020-12-12T08:29:54.676803",
     "exception": false,
     "start_time": "2020-12-12T08:29:54.657328",
     "status": "completed"
    },
    "tags": []
   },
   "source": [
    "**Swaping 1 and 0 for better understanding**"
   ]
  },
  {
   "cell_type": "code",
   "execution_count": 5,
   "metadata": {
    "execution": {
     "iopub.execute_input": "2020-12-12T08:29:54.738645Z",
     "iopub.status.busy": "2020-12-12T08:29:54.727136Z",
     "iopub.status.idle": "2020-12-12T08:29:54.794363Z",
     "shell.execute_reply": "2020-12-12T08:29:54.795052Z"
    },
    "papermill": {
     "duration": 0.098644,
     "end_time": "2020-12-12T08:29:54.795197",
     "exception": false,
     "start_time": "2020-12-12T08:29:54.696553",
     "status": "completed"
    },
    "tags": []
   },
   "outputs": [
    {
     "data": {
      "text/html": [
       "<div>\n",
       "<style scoped>\n",
       "    .dataframe tbody tr th:only-of-type {\n",
       "        vertical-align: middle;\n",
       "    }\n",
       "\n",
       "    .dataframe tbody tr th {\n",
       "        vertical-align: top;\n",
       "    }\n",
       "\n",
       "    .dataframe thead th {\n",
       "        text-align: right;\n",
       "    }\n",
       "</style>\n",
       "<table border=\"1\" class=\"dataframe\">\n",
       "  <thead>\n",
       "    <tr style=\"text-align: right;\">\n",
       "      <th></th>\n",
       "      <th>No</th>\n",
       "      <th>Country</th>\n",
       "      <th>Level of development</th>\n",
       "      <th>European Union Membership</th>\n",
       "      <th>Currency</th>\n",
       "      <th>Women Entrepreneurship Index</th>\n",
       "      <th>Entrepreneurship Index</th>\n",
       "      <th>Inflation rate</th>\n",
       "      <th>Female Labor Force Participation Rate</th>\n",
       "    </tr>\n",
       "  </thead>\n",
       "  <tbody>\n",
       "    <tr>\n",
       "      <th>0</th>\n",
       "      <td>4</td>\n",
       "      <td>Austria</td>\n",
       "      <td>1</td>\n",
       "      <td>1</td>\n",
       "      <td>1</td>\n",
       "      <td>54.9</td>\n",
       "      <td>64.9</td>\n",
       "      <td>0.90</td>\n",
       "      <td>67.1</td>\n",
       "    </tr>\n",
       "    <tr>\n",
       "      <th>1</th>\n",
       "      <td>6</td>\n",
       "      <td>Belgium</td>\n",
       "      <td>1</td>\n",
       "      <td>1</td>\n",
       "      <td>1</td>\n",
       "      <td>63.6</td>\n",
       "      <td>65.5</td>\n",
       "      <td>0.60</td>\n",
       "      <td>58.0</td>\n",
       "    </tr>\n",
       "    <tr>\n",
       "      <th>2</th>\n",
       "      <td>17</td>\n",
       "      <td>Estonia</td>\n",
       "      <td>1</td>\n",
       "      <td>1</td>\n",
       "      <td>1</td>\n",
       "      <td>55.4</td>\n",
       "      <td>60.2</td>\n",
       "      <td>-0.88</td>\n",
       "      <td>68.5</td>\n",
       "    </tr>\n",
       "    <tr>\n",
       "      <th>3</th>\n",
       "      <td>18</td>\n",
       "      <td>Finland</td>\n",
       "      <td>1</td>\n",
       "      <td>1</td>\n",
       "      <td>1</td>\n",
       "      <td>66.4</td>\n",
       "      <td>65.7</td>\n",
       "      <td>-0.20</td>\n",
       "      <td>67.7</td>\n",
       "    </tr>\n",
       "    <tr>\n",
       "      <th>4</th>\n",
       "      <td>19</td>\n",
       "      <td>France</td>\n",
       "      <td>1</td>\n",
       "      <td>1</td>\n",
       "      <td>1</td>\n",
       "      <td>68.8</td>\n",
       "      <td>67.3</td>\n",
       "      <td>0.00</td>\n",
       "      <td>60.6</td>\n",
       "    </tr>\n",
       "  </tbody>\n",
       "</table>\n",
       "</div>"
      ],
      "text/plain": [
       "   No  Country  Level of development  European Union Membership  Currency  \\\n",
       "0   4  Austria                     1                          1         1   \n",
       "1   6  Belgium                     1                          1         1   \n",
       "2  17  Estonia                     1                          1         1   \n",
       "3  18  Finland                     1                          1         1   \n",
       "4  19   France                     1                          1         1   \n",
       "\n",
       "   Women Entrepreneurship Index  Entrepreneurship Index  Inflation rate  \\\n",
       "0                          54.9                    64.9            0.90   \n",
       "1                          63.6                    65.5            0.60   \n",
       "2                          55.4                    60.2           -0.88   \n",
       "3                          66.4                    65.7           -0.20   \n",
       "4                          68.8                    67.3            0.00   \n",
       "\n",
       "   Female Labor Force Participation Rate  \n",
       "0                                   67.1  \n",
       "1                                   58.0  \n",
       "2                                   68.5  \n",
       "3                                   67.7  \n",
       "4                                   60.6  "
      ]
     },
     "execution_count": 5,
     "metadata": {},
     "output_type": "execute_result"
    }
   ],
   "source": [
    "for i in range(len(df)):\n",
    "    if(df.iloc[i, 2]==0):\n",
    "        df.iloc[i, 2]=1\n",
    "    elif(df.iloc[i, 2]==1):\n",
    "        df.iloc[i, 2]=0\n",
    "    if(df.iloc[i, 3]==0):\n",
    "        df.iloc[i, 3]=1\n",
    "    elif(df.iloc[i, 3]==1):\n",
    "        df.iloc[i, 3]=0\n",
    "    if(df.iloc[i, 4]==0):\n",
    "        df.iloc[i, 4]=1\n",
    "    elif(df.iloc[i, 4]==1):\n",
    "        df.iloc[i, 4]=0\n",
    "df.head()"
   ]
  },
  {
   "cell_type": "markdown",
   "metadata": {
    "papermill": {
     "duration": 0.021172,
     "end_time": "2020-12-12T08:29:54.837239",
     "exception": false,
     "start_time": "2020-12-12T08:29:54.816067",
     "status": "completed"
    },
    "tags": []
   },
   "source": [
    "# Task 1: "
   ]
  },
  {
   "cell_type": "markdown",
   "metadata": {
    "papermill": {
     "duration": 0.020412,
     "end_time": "2020-12-12T08:29:54.878208",
     "exception": false,
     "start_time": "2020-12-12T08:29:54.857796",
     "status": "completed"
    },
    "tags": []
   },
   "source": [
    "> Are European Union membership variable and development variable independent from each other?"
   ]
  },
  {
   "cell_type": "code",
   "execution_count": 6,
   "metadata": {
    "execution": {
     "iopub.execute_input": "2020-12-12T08:29:54.929431Z",
     "iopub.status.busy": "2020-12-12T08:29:54.928283Z",
     "iopub.status.idle": "2020-12-12T08:29:54.932376Z",
     "shell.execute_reply": "2020-12-12T08:29:54.932859Z"
    },
    "papermill": {
     "duration": 0.034112,
     "end_time": "2020-12-12T08:29:54.933005",
     "exception": false,
     "start_time": "2020-12-12T08:29:54.898893",
     "status": "completed"
    },
    "tags": []
   },
   "outputs": [
    {
     "name": "stdout",
     "output_type": "stream",
     "text": [
      "Correlation of Level of development with European Union Member: 0.7572824456627532\n"
     ]
    }
   ],
   "source": [
    "print(\"Correlation of Level of development with European Union Member:\",df.corr().iloc[1, 2])"
   ]
  },
  {
   "cell_type": "markdown",
   "metadata": {
    "papermill": {
     "duration": 0.021102,
     "end_time": "2020-12-12T08:29:54.975788",
     "exception": false,
     "start_time": "2020-12-12T08:29:54.954686",
     "status": "completed"
    },
    "tags": []
   },
   "source": [
    "**This gives some feeling that there must be some relation.**"
   ]
  },
  {
   "cell_type": "code",
   "execution_count": 7,
   "metadata": {
    "execution": {
     "iopub.execute_input": "2020-12-12T08:29:55.039687Z",
     "iopub.status.busy": "2020-12-12T08:29:55.038996Z",
     "iopub.status.idle": "2020-12-12T08:29:55.075521Z",
     "shell.execute_reply": "2020-12-12T08:29:55.076241Z"
    },
    "papermill": {
     "duration": 0.078456,
     "end_time": "2020-12-12T08:29:55.076415",
     "exception": false,
     "start_time": "2020-12-12T08:29:54.997959",
     "status": "completed"
    },
    "tags": []
   },
   "outputs": [
    {
     "name": "stdout",
     "output_type": "stream",
     "text": [
      "p-value is:  3.042837837948524e-07\n",
      "chi=26.222329, critical value=3.841459\n",
      "\n",
      "At 0.05 level of significance, we reject the null hypotheses and accept H1. \n",
      "They are not independent.\n"
     ]
    }
   ],
   "source": [
    "from scipy.stats import chi2_contingency\n",
    "from scipy.stats import chi2\n",
    "chi, pval, dof, exp = chi2_contingency(pd.crosstab(df['Level of development'],df['European Union Membership']))\n",
    "print('p-value is: ', pval)\n",
    "significance = 0.05\n",
    "p = 1 - significance\n",
    "critical_value = chi2.ppf(p, dof)\n",
    "print('chi=%.6f, critical value=%.6f\\n' % (chi, critical_value))\n",
    "if chi > critical_value:\n",
    "    print(\"\"\"At %.2f level of significance, we reject the null hypotheses and accept H1. \n",
    "They are not independent.\"\"\" % (significance))\n",
    "else:\n",
    "    print(\"\"\"At %.2f level of significance, we accept the null hypotheses. \n",
    "They are independent.\"\"\" % (significance))"
   ]
  },
  {
   "cell_type": "markdown",
   "metadata": {
    "papermill": {
     "duration": 0.021161,
     "end_time": "2020-12-12T08:29:55.119134",
     "exception": false,
     "start_time": "2020-12-12T08:29:55.097973",
     "status": "completed"
    },
    "tags": []
   },
   "source": [
    "**Hence, they are not independent.**"
   ]
  },
  {
   "cell_type": "code",
   "execution_count": 8,
   "metadata": {
    "execution": {
     "iopub.execute_input": "2020-12-12T08:29:55.180617Z",
     "iopub.status.busy": "2020-12-12T08:29:55.176780Z",
     "iopub.status.idle": "2020-12-12T08:29:55.418306Z",
     "shell.execute_reply": "2020-12-12T08:29:55.417629Z"
    },
    "papermill": {
     "duration": 0.277604,
     "end_time": "2020-12-12T08:29:55.418439",
     "exception": false,
     "start_time": "2020-12-12T08:29:55.140835",
     "status": "completed"
    },
    "tags": []
   },
   "outputs": [
    {
     "data": {
      "text/plain": [
       "<matplotlib.axes._subplots.AxesSubplot at 0x7feac23a2850>"
      ]
     },
     "execution_count": 8,
     "metadata": {},
     "output_type": "execute_result"
    },
    {
     "data": {
      "image/png": "[encoded data removed]",
      "text/plain": [
       "<Figure size 432x288 with 2 Axes>"
      ]
     },
     "metadata": {
      "needs_background": "light"
     },
     "output_type": "display_data"
    }
   ],
   "source": [
    "sns.heatmap(pd.crosstab(df['Level of development'], df['European Union Membership']), annot=True)"
   ]
  },
  {
   "cell_type": "markdown",
   "metadata": {
    "papermill": {
     "duration": 0.022702,
     "end_time": "2020-12-12T08:29:55.463865",
     "exception": false,
     "start_time": "2020-12-12T08:29:55.441163",
     "status": "completed"
    },
    "tags": []
   },
   "source": [
    "****This heatmap shows there is no European country which is not developed.****"
   ]
  },
  {
   "cell_type": "markdown",
   "metadata": {
    "papermill": {
     "duration": 0.022198,
     "end_time": "2020-12-12T08:29:55.508927",
     "exception": false,
     "start_time": "2020-12-12T08:29:55.486729",
     "status": "completed"
    },
    "tags": []
   },
   "source": [
    "# Task 2:\n",
    "> Do the Women Entrepreneurship Index and Global Entrepreneurship Index values show a statistically significant difference between the countries that are members of the European Union and not?"
   ]
  },
  {
   "cell_type": "code",
   "execution_count": 9,
   "metadata": {
    "execution": {
     "iopub.execute_input": "2020-12-12T08:29:55.576231Z",
     "iopub.status.busy": "2020-12-12T08:29:55.575187Z",
     "iopub.status.idle": "2020-12-12T08:29:55.891766Z",
     "shell.execute_reply": "2020-12-12T08:29:55.891118Z"
    },
    "papermill": {
     "duration": 0.360195,
     "end_time": "2020-12-12T08:29:55.891889",
     "exception": false,
     "start_time": "2020-12-12T08:29:55.531694",
     "status": "completed"
    },
    "tags": []
   },
   "outputs": [
    {
     "data": {
      "text/plain": [
       "<seaborn.axisgrid.FacetGrid at 0x7feac0119d50>"
      ]
     },
     "execution_count": 9,
     "metadata": {},
     "output_type": "execute_result"
    },
    {
     "data": {
      "image/png": "[encoded data removed]",
      "text/plain": [
       "<Figure size 540.25x360 with 1 Axes>"
      ]
     },
     "metadata": {
      "needs_background": "light"
     },
     "output_type": "display_data"
    }
   ],
   "source": [
    "sns.relplot(data=df,x='Women Entrepreneurship Index',y='Entrepreneurship Index',hue='European Union Membership')"
   ]
  },
  {
   "cell_type": "markdown",
   "metadata": {
    "papermill": {
     "duration": 0.02406,
     "end_time": "2020-12-12T08:29:55.940377",
     "exception": false,
     "start_time": "2020-12-12T08:29:55.916317",
     "status": "completed"
    },
    "tags": []
   },
   "source": [
    "This graph shows that the Entrepreneurship index in European country is great same goes for Women Entrepreneurship Index."
   ]
  },
  {
   "cell_type": "code",
   "execution_count": 10,
   "metadata": {
    "execution": {
     "iopub.execute_input": "2020-12-12T08:29:56.007336Z",
     "iopub.status.busy": "2020-12-12T08:29:56.001968Z",
     "iopub.status.idle": "2020-12-12T08:29:56.519050Z",
     "shell.execute_reply": "2020-12-12T08:29:56.518479Z"
    },
    "papermill": {
     "duration": 0.552647,
     "end_time": "2020-12-12T08:29:56.519163",
     "exception": false,
     "start_time": "2020-12-12T08:29:55.966516",
     "status": "completed"
    },
    "tags": []
   },
   "outputs": [
    {
     "data": {
      "text/plain": [
       "<seaborn.axisgrid.FacetGrid at 0x7feabff83d50>"
      ]
     },
     "execution_count": 10,
     "metadata": {},
     "output_type": "execute_result"
    },
    {
     "data": {
      "image/png": "[encoded data removed]",
      "text/plain": [
       "<Figure size 900.25x360 with 2 Axes>"
      ]
     },
     "metadata": {
      "needs_background": "light"
     },
     "output_type": "display_data"
    }
   ],
   "source": [
    "sns.relplot(data=df,x='Women Entrepreneurship Index',y='Entrepreneurship Index',\n",
    "            hue='European Union Membership', col='Level of development')"
   ]
  },
  {
   "cell_type": "markdown",
   "metadata": {
    "papermill": {
     "duration": 0.025433,
     "end_time": "2020-12-12T08:29:56.570555",
     "exception": false,
     "start_time": "2020-12-12T08:29:56.545122",
     "status": "completed"
    },
    "tags": []
   },
   "source": [
    "This graph shows there is diffrenece."
   ]
  },
  {
   "cell_type": "code",
   "execution_count": 11,
   "metadata": {
    "execution": {
     "iopub.execute_input": "2020-12-12T08:29:56.630688Z",
     "iopub.status.busy": "2020-12-12T08:29:56.629840Z",
     "iopub.status.idle": "2020-12-12T08:29:56.635418Z",
     "shell.execute_reply": "2020-12-12T08:29:56.634778Z"
    },
    "papermill": {
     "duration": 0.039247,
     "end_time": "2020-12-12T08:29:56.635528",
     "exception": false,
     "start_time": "2020-12-12T08:29:56.596281",
     "status": "completed"
    },
    "tags": []
   },
   "outputs": [
    {
     "name": "stdout",
     "output_type": "stream",
     "text": [
      "There is diffrenece between the ranks of the two columns p = 0.3867529381401229\n"
     ]
    }
   ],
   "source": [
    "from scipy.stats import mannwhitneyu\n",
    "p = mannwhitneyu(df['Women Entrepreneurship Index'],df['Entrepreneurship Index'])\n",
    "alpha = 0.05\n",
    "if (p[1] > 1.96 or p[1] < -1.96):\n",
    "    print('There is no diffrenece between the ranks of the two columns p =',p[1])\n",
    "else:\n",
    "    print('There is diffrenece between the ranks of the two columns p =',p[1])"
   ]
  },
  {
   "cell_type": "markdown",
   "metadata": {
    "papermill": {
     "duration": 0.026207,
     "end_time": "2020-12-12T08:29:56.687940",
     "exception": false,
     "start_time": "2020-12-12T08:29:56.661733",
     "status": "completed"
    },
    "tags": []
   },
   "source": [
    "# Task 3:\n",
    "> Is there a statistically significant relationship between Women's Entrepreneurship Index and Global Entrepreneurship Index values? "
   ]
  },
  {
   "cell_type": "code",
   "execution_count": 12,
   "metadata": {
    "execution": {
     "iopub.execute_input": "2020-12-12T08:29:56.748165Z",
     "iopub.status.busy": "2020-12-12T08:29:56.747495Z",
     "iopub.status.idle": "2020-12-12T08:29:56.757634Z",
     "shell.execute_reply": "2020-12-12T08:29:56.756834Z"
    },
    "papermill": {
     "duration": 0.043533,
     "end_time": "2020-12-12T08:29:56.757788",
     "exception": false,
     "start_time": "2020-12-12T08:29:56.714255",
     "status": "completed"
    },
    "tags": []
   },
   "outputs": [
    {
     "name": "stdout",
     "output_type": "stream",
     "text": [
      "Spearmans correlation coefficient: 0.908\n",
      "Samples are correlated (reject H0) p = 4.063302480431442e-20\n"
     ]
    }
   ],
   "source": [
    "from scipy.stats import spearmanr\n",
    "coef, p = spearmanr(df[\"Women Entrepreneurship Index\"], df[\"Entrepreneurship Index\"])\n",
    "print('Spearmans correlation coefficient: %.3f' % coef)\n",
    "alpha = 0.05\n",
    "if p > alpha:\n",
    "    print('Samples are uncorrelated (fail to reject H0) p =',p)\n",
    "else:\n",
    "    print('Samples are correlated (reject H0) p =',p)"
   ]
  },
  {
   "cell_type": "code",
   "execution_count": 13,
   "metadata": {
    "execution": {
     "iopub.execute_input": "2020-12-12T08:29:56.815173Z",
     "iopub.status.busy": "2020-12-12T08:29:56.814522Z",
     "iopub.status.idle": "2020-12-12T08:29:56.821543Z",
     "shell.execute_reply": "2020-12-12T08:29:56.822268Z"
    },
    "papermill": {
     "duration": 0.037588,
     "end_time": "2020-12-12T08:29:56.822493",
     "exception": false,
     "start_time": "2020-12-12T08:29:56.784905",
     "status": "completed"
    },
    "tags": []
   },
   "outputs": [
    {
     "name": "stdout",
     "output_type": "stream",
     "text": [
      "Correlation of Women Entrepreneurship Index with Entrepreneurship Index: 0.9145796628456234\n"
     ]
    }
   ],
   "source": [
    "print(\"Correlation of Women Entrepreneurship Index with Entrepreneurship Index:\",df.corr().iloc[4, 5])"
   ]
  },
  {
   "cell_type": "code",
   "execution_count": 14,
   "metadata": {
    "execution": {
     "iopub.execute_input": "2020-12-12T08:29:56.881608Z",
     "iopub.status.busy": "2020-12-12T08:29:56.880896Z",
     "iopub.status.idle": "2020-12-12T08:29:57.244814Z",
     "shell.execute_reply": "2020-12-12T08:29:57.245551Z"
    },
    "papermill": {
     "duration": 0.395196,
     "end_time": "2020-12-12T08:29:57.245759",
     "exception": false,
     "start_time": "2020-12-12T08:29:56.850563",
     "status": "completed"
    },
    "tags": []
   },
   "outputs": [
    {
     "data": {
      "image/png": "[encoded data removed]",
      "text/plain": [
       "<Figure size 432x288 with 1 Axes>"
      ]
     },
     "metadata": {
      "needs_background": "light"
     },
     "output_type": "display_data"
    }
   ],
   "source": [
    "plt.figure()\n",
    "sns.scatterplot(data=df, x=\"Women Entrepreneurship Index\", y=\"Entrepreneurship Index\")\n",
    "sns.regplot(data=df, x=\"Women Entrepreneurship Index\", y=\"Entrepreneurship Index\")\n",
    "plt.show()"
   ]
  },
  {
   "cell_type": "markdown",
   "metadata": {
    "papermill": {
     "duration": 0.029027,
     "end_time": "2020-12-12T08:29:57.307748",
     "exception": false,
     "start_time": "2020-12-12T08:29:57.278721",
     "status": "completed"
    },
    "tags": []
   },
   "source": [
    "Hence, both have positive correlation "
   ]
  },
  {
   "cell_type": "markdown",
   "metadata": {
    "papermill": {
     "duration": 0.028261,
     "end_time": "2020-12-12T08:29:57.365195",
     "exception": false,
     "start_time": "2020-12-12T08:29:57.336934",
     "status": "completed"
    },
    "tags": []
   },
   "source": [
    "# **SOME MORE VISUALISATION**"
   ]
  },
  {
   "cell_type": "code",
   "execution_count": 15,
   "metadata": {
    "execution": {
     "iopub.execute_input": "2020-12-12T08:29:57.429130Z",
     "iopub.status.busy": "2020-12-12T08:29:57.428104Z",
     "iopub.status.idle": "2020-12-12T08:29:58.626175Z",
     "shell.execute_reply": "2020-12-12T08:29:58.626713Z"
    },
    "papermill": {
     "duration": 1.232868,
     "end_time": "2020-12-12T08:29:58.626894",
     "exception": false,
     "start_time": "2020-12-12T08:29:57.394026",
     "status": "completed"
    },
    "tags": []
   },
   "outputs": [
    {
     "data": {
      "image/png": "[encoded data removed]",
      "text/plain": [
       "<Figure size 720x1080 with 1 Axes>"
      ]
     },
     "metadata": {
      "needs_background": "light"
     },
     "output_type": "display_data"
    }
   ],
   "source": [
    "plt.figure(figsize=[10, 15])\n",
    "sns.barplot(y='Country', x='Inflation rate', data=df, hue='European Union Membership')\n",
    "plt.show()"
   ]
  },
  {
   "cell_type": "code",
   "execution_count": 16,
   "metadata": {
    "execution": {
     "iopub.execute_input": "2020-12-12T08:29:58.699870Z",
     "iopub.status.busy": "2020-12-12T08:29:58.698804Z",
     "iopub.status.idle": "2020-12-12T08:29:59.894891Z",
     "shell.execute_reply": "2020-12-12T08:29:59.895726Z"
    },
    "papermill": {
     "duration": 1.235964,
     "end_time": "2020-12-12T08:29:59.895888",
     "exception": false,
     "start_time": "2020-12-12T08:29:58.659924",
     "status": "completed"
    },
    "tags": []
   },
   "outputs": [
    {
     "data": {
      "image/png": "[encoded data removed]",
      "text/plain": [
       "<Figure size 720x1080 with 1 Axes>"
      ]
     },
     "metadata": {
      "needs_background": "light"
     },
     "output_type": "display_data"
    }
   ],
   "source": [
    "plt.figure(figsize=[10, 15])\n",
    "sns.barplot(y='Country', x='Female Labor Force Participation Rate', data=df, hue='European Union Membership')\n",
    "plt.show()"
   ]
  },
  {
   "cell_type": "markdown",
   "metadata": {
    "papermill": {
     "duration": 0.033557,
     "end_time": "2020-12-12T08:29:59.962735",
     "exception": false,
     "start_time": "2020-12-12T08:29:59.929178",
     "status": "completed"
    },
    "tags": []
   },
   "source": [
    "**PLEASE LIKE IF IT WAS USEFULL.**\n",
    "\n",
    "# THANK YOU :)\n",
    "\n",
    "PEACE ☮"
   ]
  }
 ],
 "metadata": {
  "kernelspec": {
   "display_name": "Python 3",
   "language": "python",
   "name": "python3"
  },
  "language_info": {
   "codemirror_mode": {
    "name": "ipython",
    "version": 3
   },
   "file_extension": ".py",
   "mimetype": "text/x-python",
   "name": "python",
   "nbconvert_exporter": "python",
   "pygments_lexer": "ipython3",
   "version": "3.7.6"
  },
  "papermill": {
   "duration": 11.852545,
   "end_time": "2020-12-12T08:30:00.106210",
   "environment_variables": {},
   "exception": null,
   "input_path": "__notebook__.ipynb",
   "output_path": "__notebook__.ipynb",
   "parameters": {},
   "start_time": "2020-12-12T08:29:48.253665",
   "version": "2.1.0"
  }
 },
 "nbformat": 4,
 "nbformat_minor": 4
}
